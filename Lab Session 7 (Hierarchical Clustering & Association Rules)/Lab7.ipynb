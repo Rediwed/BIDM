{
 "cells": [
  {
   "cell_type": "code",
   "execution_count": 6,
   "metadata": {},
   "outputs": [
    {
     "data": {
      "text/html": [
       "<div>\n",
       "<style scoped>\n",
       "    .dataframe tbody tr th:only-of-type {\n",
       "        vertical-align: middle;\n",
       "    }\n",
       "\n",
       "    .dataframe tbody tr th {\n",
       "        vertical-align: top;\n",
       "    }\n",
       "\n",
       "    .dataframe thead th {\n",
       "        text-align: right;\n",
       "    }\n",
       "</style>\n",
       "<table border=\"1\" class=\"dataframe\">\n",
       "  <thead>\n",
       "    <tr style=\"text-align: right;\">\n",
       "      <th></th>\n",
       "      <th>Pregnancies</th>\n",
       "      <th>Glucose</th>\n",
       "      <th>BloodPressure</th>\n",
       "      <th>SkinThickness</th>\n",
       "      <th>Insulin</th>\n",
       "      <th>BMI</th>\n",
       "      <th>DiabetesPedigreeFunction</th>\n",
       "      <th>Age</th>\n",
       "    </tr>\n",
       "  </thead>\n",
       "  <tbody>\n",
       "    <tr>\n",
       "      <th>count</th>\n",
       "      <td>268.000000</td>\n",
       "      <td>268.000000</td>\n",
       "      <td>268.000000</td>\n",
       "      <td>268.000000</td>\n",
       "      <td>268.000000</td>\n",
       "      <td>268.000000</td>\n",
       "      <td>268.000000</td>\n",
       "      <td>268.000000</td>\n",
       "    </tr>\n",
       "    <tr>\n",
       "      <th>mean</th>\n",
       "      <td>4.865672</td>\n",
       "      <td>141.257463</td>\n",
       "      <td>70.824627</td>\n",
       "      <td>22.164179</td>\n",
       "      <td>100.335821</td>\n",
       "      <td>35.142537</td>\n",
       "      <td>0.550500</td>\n",
       "      <td>37.067164</td>\n",
       "    </tr>\n",
       "    <tr>\n",
       "      <th>std</th>\n",
       "      <td>3.741239</td>\n",
       "      <td>31.939622</td>\n",
       "      <td>21.491812</td>\n",
       "      <td>17.679711</td>\n",
       "      <td>138.689125</td>\n",
       "      <td>7.262967</td>\n",
       "      <td>0.372354</td>\n",
       "      <td>10.968254</td>\n",
       "    </tr>\n",
       "    <tr>\n",
       "      <th>min</th>\n",
       "      <td>0.000000</td>\n",
       "      <td>0.000000</td>\n",
       "      <td>0.000000</td>\n",
       "      <td>0.000000</td>\n",
       "      <td>0.000000</td>\n",
       "      <td>0.000000</td>\n",
       "      <td>0.088000</td>\n",
       "      <td>21.000000</td>\n",
       "    </tr>\n",
       "    <tr>\n",
       "      <th>25%</th>\n",
       "      <td>1.750000</td>\n",
       "      <td>119.000000</td>\n",
       "      <td>66.000000</td>\n",
       "      <td>0.000000</td>\n",
       "      <td>0.000000</td>\n",
       "      <td>30.800000</td>\n",
       "      <td>0.262500</td>\n",
       "      <td>28.000000</td>\n",
       "    </tr>\n",
       "    <tr>\n",
       "      <th>50%</th>\n",
       "      <td>4.000000</td>\n",
       "      <td>140.000000</td>\n",
       "      <td>74.000000</td>\n",
       "      <td>27.000000</td>\n",
       "      <td>0.000000</td>\n",
       "      <td>34.250000</td>\n",
       "      <td>0.449000</td>\n",
       "      <td>36.000000</td>\n",
       "    </tr>\n",
       "    <tr>\n",
       "      <th>75%</th>\n",
       "      <td>8.000000</td>\n",
       "      <td>167.000000</td>\n",
       "      <td>82.000000</td>\n",
       "      <td>36.000000</td>\n",
       "      <td>167.250000</td>\n",
       "      <td>38.775000</td>\n",
       "      <td>0.728000</td>\n",
       "      <td>44.000000</td>\n",
       "    </tr>\n",
       "    <tr>\n",
       "      <th>max</th>\n",
       "      <td>17.000000</td>\n",
       "      <td>199.000000</td>\n",
       "      <td>114.000000</td>\n",
       "      <td>99.000000</td>\n",
       "      <td>846.000000</td>\n",
       "      <td>67.100000</td>\n",
       "      <td>2.420000</td>\n",
       "      <td>70.000000</td>\n",
       "    </tr>\n",
       "  </tbody>\n",
       "</table>\n",
       "</div>"
      ],
      "text/plain": [
       "       Pregnancies     Glucose  BloodPressure  SkinThickness     Insulin  \\\n",
       "count   268.000000  268.000000     268.000000     268.000000  268.000000   \n",
       "mean      4.865672  141.257463      70.824627      22.164179  100.335821   \n",
       "std       3.741239   31.939622      21.491812      17.679711  138.689125   \n",
       "min       0.000000    0.000000       0.000000       0.000000    0.000000   \n",
       "25%       1.750000  119.000000      66.000000       0.000000    0.000000   \n",
       "50%       4.000000  140.000000      74.000000      27.000000    0.000000   \n",
       "75%       8.000000  167.000000      82.000000      36.000000  167.250000   \n",
       "max      17.000000  199.000000     114.000000      99.000000  846.000000   \n",
       "\n",
       "              BMI  DiabetesPedigreeFunction         Age  \n",
       "count  268.000000                268.000000  268.000000  \n",
       "mean    35.142537                  0.550500   37.067164  \n",
       "std      7.262967                  0.372354   10.968254  \n",
       "min      0.000000                  0.088000   21.000000  \n",
       "25%     30.800000                  0.262500   28.000000  \n",
       "50%     34.250000                  0.449000   36.000000  \n",
       "75%     38.775000                  0.728000   44.000000  \n",
       "max     67.100000                  2.420000   70.000000  "
      ]
     },
     "execution_count": 6,
     "metadata": {},
     "output_type": "execute_result"
    }
   ],
   "source": [
    "#Import data, drop 'outcome'\n",
    "import pandas as pd\n",
    "\n",
    "df_data = pd.read_csv(r'Business Intelligence & Data Management/Python/LabSession6/Diabetes.csv')\n",
    "\n",
    "df_diabetes = df_data[df_data['Outcome'] == 1] \n",
    "\n",
    "df_diabetes = df_diabetes.drop(['Outcome'], axis = 1)\n",
    "\n",
    "df_diabetes.describe()"
   ]
  },
  {
   "cell_type": "code",
   "execution_count": 12,
   "metadata": {},
   "outputs": [],
   "source": [
    "# Normalize data scaling\n",
    "from sklearn.preprocessing import normalize\n",
    "df_col = df_diabetes.columns\n",
    "df_diabetes = normalize(df_diabetes)\n",
    "# convert ndarray to pd\n",
    "df_diabetes = pd.DataFrame(df_diabetes, columns = df_col)"
   ]
  },
  {
   "cell_type": "code",
   "execution_count": 15,
   "metadata": {
    "scrolled": false
   },
   "outputs": [
    {
     "data": {
      "image/png": "[encoded data removed]",
      "text/plain": [
       "<Figure size 720x504 with 1 Axes>"
      ]
     },
     "metadata": {
      "needs_background": "light"
     },
     "output_type": "display_data"
    }
   ],
   "source": [
    "#Create dendrogram\n",
    "import matplotlib.pyplot as plt\n",
    "import scipy.cluster.hierarchy as shc\n",
    "plt.figure(figsize=(10, 7))\n",
    "plt.title(\"Dendrograms\")\n",
    "dend = shc.dendrogram(shc.linkage(df_diabetes, method='ward'))"
   ]
  },
  {
   "cell_type": "code",
   "execution_count": 18,
   "metadata": {},
   "outputs": [
    {
     "data": {
      "text/plain": [
       "array([1, 1, 0, 0, 0, 1, 1, 0, 0, 1, 0, 1, 0, 1, 1, 0, 0, 1, 0, 1, 1, 0,\n",
       "       0, 1, 1, 0, 0, 1, 1, 1, 0, 1, 1, 1, 0, 1, 0, 1, 0, 0, 0, 0, 1, 1,\n",
       "       0, 1, 0, 0, 1, 0, 1, 0, 1, 0, 1, 1, 0, 1, 0, 1, 0, 0, 0, 1, 1, 0,\n",
       "       0, 0, 0, 1, 1, 0, 0, 0, 0, 0, 1, 1, 0, 0, 0, 0, 1, 1, 0, 1, 1, 1,\n",
       "       0, 1, 0, 1, 1, 1, 0, 1, 0, 1, 0, 1, 1, 1, 1, 1, 1, 1, 1, 1, 0, 0,\n",
       "       0, 0, 0, 0, 1, 0, 1, 0, 0, 0, 0, 1, 1, 1, 1, 1, 1, 0, 0, 1, 1, 0,\n",
       "       1, 1, 1, 0, 1, 0, 0, 1, 1, 0, 0, 0, 1, 1, 1, 0, 1, 1, 1, 1, 1, 0,\n",
       "       1, 1, 1, 0, 0, 0, 1, 0, 0, 0, 0, 0, 1, 1, 1, 1, 1, 0, 1, 1, 0, 1,\n",
       "       0, 0, 1, 0, 0, 0, 1, 0, 1, 0, 0, 1, 1, 0, 0, 0, 1, 0, 0, 1, 0, 0,\n",
       "       1, 1, 1, 0, 1, 0, 1, 1, 0, 1, 0, 1, 0, 0, 0, 0, 1, 1, 1, 1, 0, 1,\n",
       "       0, 0, 0, 0, 0, 1, 0, 0, 1, 1, 1, 1, 1, 1, 1, 1, 0, 1, 0, 0, 0, 1,\n",
       "       1, 1, 1, 0, 1, 0, 0, 1, 0, 0, 1, 0, 1, 0, 1, 1, 0, 1, 1, 0, 1, 0,\n",
       "       1, 1, 1, 1])"
      ]
     },
     "execution_count": 18,
     "metadata": {},
     "output_type": "execute_result"
    }
   ],
   "source": [
    "# Apply hierarchical clustering\n",
    "from sklearn.cluster import AgglomerativeClustering\n",
    "\n",
    "cluster = AgglomerativeClustering(n_clusters=2, affinity='euclidean', linkage='ward')\n",
    "\n",
    "cluster.fit_predict(df_diabetes)"
   ]
  },
  {
   "cell_type": "code",
   "execution_count": 19,
   "metadata": {},
   "outputs": [
    {
     "data": {
      "text/plain": [
       "<matplotlib.collections.PathCollection at 0x7fc0ad0b6e20>"
      ]
     },
     "execution_count": 19,
     "metadata": {},
     "output_type": "execute_result"
    },
    {
     "data": {
      "image/png": "[encoded data removed]",
      "text/plain": [
       "<Figure size 720x504 with 1 Axes>"
      ]
     },
     "metadata": {
      "needs_background": "light"
     },
     "output_type": "display_data"
    }
   ],
   "source": [
    "# Visualise hierarchical clusters\n",
    "plt.figure(figsize=(10, 7))\n",
    "plt.scatter(df_diabetes['Age'], df_diabetes['BMI'], c=cluster.labels_)"
   ]
  },
  {
   "cell_type": "code",
   "execution_count": 25,
   "metadata": {},
   "outputs": [
    {
     "data": {
      "text/plain": [
       "count    268.000000\n",
       "mean       0.188118\n",
       "std        0.075720\n",
       "min        0.040725\n",
       "25%        0.133213\n",
       "50%        0.180815\n",
       "75%        0.237185\n",
       "max        0.419691\n",
       "Name: Age, dtype: float64"
      ]
     },
     "execution_count": 25,
     "metadata": {},
     "output_type": "execute_result"
    }
   ],
   "source": [
    "df_diabetes['Age'].describe()"
   ]
  },
  {
   "cell_type": "code",
   "execution_count": 27,
   "metadata": {},
   "outputs": [
    {
     "data": {
      "text/plain": [
       "count    268.000000\n",
       "mean       0.178605\n",
       "std        0.063530\n",
       "min        0.000000\n",
       "25%        0.138291\n",
       "50%        0.175974\n",
       "75%        0.221286\n",
       "max        0.400136\n",
       "Name: BMI, dtype: float64"
      ]
     },
     "execution_count": 27,
     "metadata": {},
     "output_type": "execute_result"
    }
   ],
   "source": [
    "df_diabetes['BMI'].describe()"
   ]
  },
  {
   "cell_type": "code",
   "execution_count": 30,
   "metadata": {},
   "outputs": [],
   "source": [
    "import pandas as pd\n",
    "import numpy as np\n",
    "import matplotlib.pyplot as plt\n",
    "from mlxtend.preprocessing import TransactionEncoder\n",
    "from mlxtend.frequent_patterns import apriori\n",
    "from mlxtend.frequent_patterns import association_rules\n",
    "data = pd.read_csv(r'Business Intelligence & Data Management/Python/LabSession7/Store.csv')"
   ]
  },
  {
   "cell_type": "code",
   "execution_count": 42,
   "metadata": {},
   "outputs": [
    {
     "name": "stdout",
     "output_type": "stream",
     "text": [
      "7499\n",
      "142481\n",
      "Index(['burgers', 'meatballs', 'eggs', 'Unnamed: 3', 'Unnamed: 4',\n",
      "       'Unnamed: 5', 'Unnamed: 6', 'Unnamed: 7', 'Unnamed: 8', 'Unnamed: 9',\n",
      "       'Unnamed: 10', 'Unnamed: 11', 'Unnamed: 12', 'Unnamed: 13',\n",
      "       'Unnamed: 14', 'Unnamed: 15', 'Unnamed: 16', 'Unnamed: 17',\n",
      "       'Unnamed: 18'],\n",
      "      dtype='object')\n",
      "burgers        chutney\n",
      "meatballs          NaN\n",
      "eggs               NaN\n",
      "Unnamed: 3         NaN\n",
      "Unnamed: 4         NaN\n",
      "Unnamed: 5         NaN\n",
      "Unnamed: 6         NaN\n",
      "Unnamed: 7         NaN\n",
      "Unnamed: 8         NaN\n",
      "Unnamed: 9         NaN\n",
      "Unnamed: 10        NaN\n",
      "Unnamed: 11        NaN\n",
      "Unnamed: 12        NaN\n",
      "Unnamed: 13        NaN\n",
      "Unnamed: 14        NaN\n",
      "Unnamed: 15        NaN\n",
      "Unnamed: 16        NaN\n",
      "Unnamed: 17        NaN\n",
      "Unnamed: 18        NaN\n",
      "Name: 0, dtype: object\n"
     ]
    }
   ],
   "source": [
    "# Number of rows\n",
    "print(len(data))\n",
    "\n",
    "# Total dataframe size\n",
    "print(data.size)\n",
    "\n",
    "# Print columns\n",
    "print(data.columns)\n",
    "\n",
    "print(data.iloc[0])"
   ]
  },
  {
   "cell_type": "code",
   "execution_count": 44,
   "metadata": {},
   "outputs": [],
   "source": [
    "# Transform DataFrame into list of lists\n",
    "transactions = []\n",
    "for i in range(len(data)):\n",
    "    row=[]\n",
    "    for j in range(len(data.columns)):\n",
    "        if str(data.values[i,j])!='nan':\n",
    "            row.append(str(data.values[i,j]))\n",
    "    transactions.append(row)"
   ]
  },
  {
   "cell_type": "code",
   "execution_count": 53,
   "metadata": {
    "scrolled": false
   },
   "outputs": [
    {
     "name": "stdout",
     "output_type": "stream",
     "text": [
      "     support                    itemsets\n",
      "0   0.087078                   (burgers)\n",
      "1   0.081077                      (cake)\n",
      "2   0.060008                   (chicken)\n",
      "3   0.163889                 (chocolate)\n",
      "4   0.080411                   (cookies)\n",
      "5   0.051073               (cooking oil)\n",
      "6   0.179624                      (eggs)\n",
      "7   0.079344                  (escalope)\n",
      "8   0.170956              (french fries)\n",
      "9   0.063208           (frozen smoothie)\n",
      "10  0.095346         (frozen vegetables)\n",
      "11  0.052407             (grated cheese)\n",
      "12  0.132018                 (green tea)\n",
      "13  0.098280               (ground beef)\n",
      "14  0.076410            (low fat yogurt)\n",
      "15  0.129617                      (milk)\n",
      "16  0.238298             (mineral water)\n",
      "17  0.065742                 (olive oil)\n",
      "18  0.095079                  (pancakes)\n",
      "19  0.071343                    (shrimp)\n",
      "20  0.050540                      (soup)\n",
      "21  0.174157                 (spaghetti)\n",
      "22  0.068409                  (tomatoes)\n",
      "23  0.062542                    (turkey)\n",
      "24  0.058541          (whole wheat rice)\n",
      "25  0.052674  (chocolate, mineral water)\n",
      "26  0.050940       (eggs, mineral water)\n",
      "27  0.059741  (spaghetti, mineral water)\n"
     ]
    }
   ],
   "source": [
    "# create the association rule\n",
    "te = TransactionEncoder()\n",
    "te_ary = te.fit(transactions).transform(transactions)\n",
    "\n",
    "# retrieve the frequent itemsets with support higher than 0.05\n",
    "df = pd.DataFrame(te_ary, columns=te.columns_)\n",
    "frequent_itemsets = apriori(df, min_support=0.05, use_colnames=True)\n",
    "\n",
    "# print these itemsets :)\n",
    "print(frequent_itemsets)"
   ]
  },
  {
   "cell_type": "code",
   "execution_count": null,
   "metadata": {},
   "outputs": [],
   "source": []
  },
  {
   "cell_type": "code",
   "execution_count": 59,
   "metadata": {},
   "outputs": [
    {
     "name": "stdout",
     "output_type": "stream",
     "text": [
      "       antecedents      consequents  antecedent support  consequent support  \\\n",
      "0      (chocolate)  (mineral water)            0.163889            0.238298   \n",
      "1  (mineral water)      (chocolate)            0.238298            0.163889   \n",
      "2           (eggs)  (mineral water)            0.179624            0.238298   \n",
      "3  (mineral water)           (eggs)            0.238298            0.179624   \n",
      "4      (spaghetti)  (mineral water)            0.174157            0.238298   \n",
      "5  (mineral water)      (spaghetti)            0.238298            0.174157   \n",
      "\n",
      "    support  confidence      lift  leverage  conviction  \n",
      "0  0.052674    0.321400  1.348727  0.013619    1.122459  \n",
      "1  0.052674    0.221041  1.348727  0.013619    1.073370  \n",
      "2  0.050940    0.283593  1.190076  0.008136    1.063225  \n",
      "3  0.050940    0.213766  1.190076  0.008136    1.043425  \n",
      "4  0.059741    0.343032  1.439507  0.018240    1.159420  \n",
      "5  0.059741    0.250699  1.439507  0.018240    1.102153  \n"
     ]
    }
   ],
   "source": [
    "# rules when the level of confidence is above the 35% threshold\n",
    "rules = association_rules(frequent_itemsets, metric=\"confidence\", min_threshold=0.05)\n",
    "\n",
    "# print these rules\n",
    "print(rules)"
   ]
  },
  {
   "cell_type": "code",
   "execution_count": 61,
   "metadata": {},
   "outputs": [
    {
     "name": "stdout",
     "output_type": "stream",
     "text": [
      "       antecedents      consequents  antecedent support  consequent support  \\\n",
      "0      (chocolate)  (mineral water)            0.163889            0.238298   \n",
      "1  (mineral water)      (chocolate)            0.238298            0.163889   \n",
      "2           (eggs)  (mineral water)            0.179624            0.238298   \n",
      "3  (mineral water)           (eggs)            0.238298            0.179624   \n",
      "4      (spaghetti)  (mineral water)            0.174157            0.238298   \n",
      "5  (mineral water)      (spaghetti)            0.238298            0.174157   \n",
      "\n",
      "    support  confidence      lift  leverage  conviction  \n",
      "0  0.052674    0.321400  1.348727  0.013619    1.122459  \n",
      "1  0.052674    0.221041  1.348727  0.013619    1.073370  \n",
      "2  0.050940    0.283593  1.190076  0.008136    1.063225  \n",
      "3  0.050940    0.213766  1.190076  0.008136    1.043425  \n",
      "4  0.059741    0.343032  1.439507  0.018240    1.159420  \n",
      "5  0.059741    0.250699  1.439507  0.018240    1.102153  \n"
     ]
    }
   ],
   "source": [
    "# rules when lift is above 2\n",
    "\n",
    "rules = association_rules(frequent_itemsets, metric=\"lift\", min_threshold=1)\n",
    "\n",
    "# print these rules\n",
    "print(rules)"
   ]
  },
  {
   "cell_type": "code",
   "execution_count": 64,
   "metadata": {},
   "outputs": [
    {
     "data": {
      "text/plain": [
       "31684"
      ]
     },
     "execution_count": 64,
     "metadata": {},
     "output_type": "execute_result"
    }
   ],
   "source": [
    "# Import wine.csv\n",
    "from sklearn.metrics import pairwise\n",
    "wine_df = pd.read_csv(r'Business Intelligence & Data Management/Python/LabSession7/Wine.csv')\n",
    "wine_df = wine_df[['Alcohol', 'Malic_Acid', 'Ash', 'Ash_Alcalinity','Magnesium', 'Total_Phenols', 'Flavanoids', 'Nonflavanoid_Phenols', 'Proanthocyanins', 'Color_Intensity','Hue', 'OD280_OD315', 'Proline']]\n",
    "# Create itempairs using euclidian distance \n",
    "d = pairwise.pairwise_distances(wine_df, metric='euclidean')\n",
    "# Determine amount of cells in itemspairs\n",
    "d.size"
   ]
  },
  {
   "cell_type": "code",
   "execution_count": 66,
   "metadata": {},
   "outputs": [
    {
     "data": {
      "image/png": "[encoded data removed]",
      "text/plain": [
       "<Figure size 432x288 with 1 Axes>"
      ]
     },
     "metadata": {
      "needs_background": "light"
     },
     "output_type": "display_data"
    }
   ],
   "source": [
    "# Plot the error rate for different values of K\n",
    "from sklearn.cluster import KMeans\n",
    "Error =[]\n",
    "for i in range(1, 11):\n",
    "    kmeans = KMeans(n_clusters = i)\n",
    "    kmeans.fit(wine_df)\n",
    "    Error.append(kmeans.inertia_)\n",
    "\n",
    "plt.plot(range(1, 11), Error)\n",
    "plt.xlabel('No of clusters')\n",
    "plt.ylabel('Error')\n",
    "plt.show()"
   ]
  },
  {
   "cell_type": "code",
   "execution_count": 68,
   "metadata": {},
   "outputs": [],
   "source": [
    "import pandas as pd\n",
    "import numpy as np\n",
    "import matplotlib.pyplot as plt\n",
    "from mlxtend.preprocessing import TransactionEncoder\n",
    "from mlxtend.frequent_patterns import apriori\n",
    "from mlxtend.frequent_patterns import association_rules\n",
    "data = pd.read_csv(r'Business Intelligence & Data Management/Python/LabSession7/Retail.csv')"
   ]
  },
  {
   "cell_type": "code",
   "execution_count": 69,
   "metadata": {},
   "outputs": [],
   "source": [
    "# Transform DataFrame into list of lists\n",
    "transactions = []\n",
    "for i in range(len(data)):\n",
    "    row=[]\n",
    "    for j in range(len(data.columns)):\n",
    "        if str(data.values[i,j])!='nan':\n",
    "            row.append(str(data.values[i,j]))\n",
    "    transactions.append(row)"
   ]
  },
  {
   "cell_type": "code",
   "execution_count": 73,
   "metadata": {},
   "outputs": [
    {
     "name": "stdout",
     "output_type": "stream",
     "text": [
      "     support              itemsets\n",
      "0   0.426752               (Bagel)\n",
      "1   0.503185               (Bread)\n",
      "2   0.500000              (Cheese)\n",
      "3   0.404459              (Diaper)\n",
      "4   0.436306                (Eggs)\n",
      "5   0.474522                (Meat)\n",
      "6   0.503185                (Milk)\n",
      "7   0.359873              (Pencil)\n",
      "8   0.436306                (Wine)\n",
      "9   0.280255        (Bagel, Bread)\n",
      "10  0.226115         (Bagel, Milk)\n",
      "11  0.235669       (Cheese, Bread)\n",
      "12  0.229299       (Bread, Diaper)\n",
      "13  0.203822         (Bread, Meat)\n",
      "14  0.280255         (Bread, Milk)\n",
      "15  0.242038         (Bread, Wine)\n",
      "16  0.296178        (Eggs, Cheese)\n",
      "17  0.321656        (Cheese, Meat)\n",
      "18  0.305732        (Cheese, Milk)\n",
      "19  0.267516        (Cheese, Wine)\n",
      "20  0.232484        (Diaper, Wine)\n",
      "21  0.264331          (Eggs, Meat)\n",
      "22  0.245223          (Eggs, Milk)\n",
      "23  0.238854          (Eggs, Wine)\n",
      "24  0.245223          (Meat, Milk)\n",
      "25  0.248408          (Meat, Wine)\n",
      "26  0.219745          (Milk, Wine)\n",
      "27  0.213376  (Eggs, Cheese, Meat)\n",
      "28  0.203822  (Cheese, Milk, Meat)\n"
     ]
    }
   ],
   "source": [
    "# create the association rule\n",
    "te = TransactionEncoder()\n",
    "te_ary = te.fit(transactions).transform(transactions)\n",
    "\n",
    "# retrieve the frequent itemsets with support higher than 0.2\n",
    "df = pd.DataFrame(te_ary, columns=te.columns_)\n",
    "frequent_itemsets = apriori(df, min_support=0.2, use_colnames=True)\n",
    "\n",
    "# print these itemsets :)\n",
    "print(frequent_itemsets)"
   ]
  },
  {
   "cell_type": "code",
   "execution_count": null,
   "metadata": {},
   "outputs": [],
   "source": []
  },
  {
   "cell_type": "code",
   "execution_count": 79,
   "metadata": {},
   "outputs": [
    {
     "name": "stdout",
     "output_type": "stream",
     "text": [
      "       antecedents     consequents  antecedent support  consequent support  \\\n",
      "0          (Bagel)         (Bread)            0.426752            0.503185   \n",
      "1          (Bread)         (Bagel)            0.503185            0.426752   \n",
      "2          (Bagel)          (Milk)            0.426752            0.503185   \n",
      "3           (Milk)         (Bagel)            0.503185            0.426752   \n",
      "4         (Cheese)         (Bread)            0.500000            0.503185   \n",
      "5          (Bread)        (Cheese)            0.503185            0.500000   \n",
      "6          (Bread)        (Diaper)            0.503185            0.404459   \n",
      "7         (Diaper)         (Bread)            0.404459            0.503185   \n",
      "8          (Bread)          (Meat)            0.503185            0.474522   \n",
      "9           (Meat)         (Bread)            0.474522            0.503185   \n",
      "10         (Bread)          (Milk)            0.503185            0.503185   \n",
      "11          (Milk)         (Bread)            0.503185            0.503185   \n",
      "12         (Bread)          (Wine)            0.503185            0.436306   \n",
      "13          (Wine)         (Bread)            0.436306            0.503185   \n",
      "14          (Eggs)        (Cheese)            0.436306            0.500000   \n",
      "15        (Cheese)          (Eggs)            0.500000            0.436306   \n",
      "16        (Cheese)          (Meat)            0.500000            0.474522   \n",
      "17          (Meat)        (Cheese)            0.474522            0.500000   \n",
      "18        (Cheese)          (Milk)            0.500000            0.503185   \n",
      "19          (Milk)        (Cheese)            0.503185            0.500000   \n",
      "20        (Cheese)          (Wine)            0.500000            0.436306   \n",
      "21          (Wine)        (Cheese)            0.436306            0.500000   \n",
      "22        (Diaper)          (Wine)            0.404459            0.436306   \n",
      "23          (Wine)        (Diaper)            0.436306            0.404459   \n",
      "24          (Eggs)          (Meat)            0.436306            0.474522   \n",
      "25          (Meat)          (Eggs)            0.474522            0.436306   \n",
      "26          (Eggs)          (Milk)            0.436306            0.503185   \n",
      "27          (Milk)          (Eggs)            0.503185            0.436306   \n",
      "28          (Eggs)          (Wine)            0.436306            0.436306   \n",
      "29          (Wine)          (Eggs)            0.436306            0.436306   \n",
      "30          (Meat)          (Milk)            0.474522            0.503185   \n",
      "31          (Milk)          (Meat)            0.503185            0.474522   \n",
      "32          (Meat)          (Wine)            0.474522            0.436306   \n",
      "33          (Wine)          (Meat)            0.436306            0.474522   \n",
      "34          (Milk)          (Wine)            0.503185            0.436306   \n",
      "35          (Wine)          (Milk)            0.436306            0.503185   \n",
      "36  (Eggs, Cheese)          (Meat)            0.296178            0.474522   \n",
      "37    (Eggs, Meat)        (Cheese)            0.264331            0.500000   \n",
      "38  (Cheese, Meat)          (Eggs)            0.321656            0.436306   \n",
      "39          (Eggs)  (Cheese, Meat)            0.436306            0.321656   \n",
      "40        (Cheese)    (Eggs, Meat)            0.500000            0.264331   \n",
      "41          (Meat)  (Eggs, Cheese)            0.474522            0.296178   \n",
      "42  (Cheese, Milk)          (Meat)            0.305732            0.474522   \n",
      "43  (Cheese, Meat)          (Milk)            0.321656            0.503185   \n",
      "44    (Meat, Milk)        (Cheese)            0.245223            0.500000   \n",
      "45        (Cheese)    (Meat, Milk)            0.500000            0.245223   \n",
      "46          (Milk)  (Cheese, Meat)            0.503185            0.321656   \n",
      "47          (Meat)  (Cheese, Milk)            0.474522            0.305732   \n",
      "\n",
      "     support  confidence      lift  leverage  conviction  \n",
      "0   0.280255    0.656716  1.305120  0.065520    1.447245  \n",
      "1   0.280255    0.556962  1.305120  0.065520    1.293904  \n",
      "2   0.226115    0.529851  1.052995  0.011380    1.056718  \n",
      "3   0.226115    0.449367  1.052995  0.011380    1.041072  \n",
      "4   0.235669    0.471338  0.936709 -0.015924    0.939759  \n",
      "5   0.235669    0.468354  0.936709 -0.015924    0.940476  \n",
      "6   0.229299    0.455696  1.126682  0.025782    1.094134  \n",
      "7   0.229299    0.566929  1.126682  0.025782    1.147192  \n",
      "8   0.203822    0.405063  0.853623 -0.034951    0.883250  \n",
      "9   0.203822    0.429530  0.853623 -0.034951    0.870888  \n",
      "10  0.280255    0.556962  1.106874  0.027060    1.121383  \n",
      "11  0.280255    0.556962  1.106874  0.027060    1.121383  \n",
      "12  0.242038    0.481013  1.102467  0.022496    1.086143  \n",
      "13  0.242038    0.554745  1.102467  0.022496    1.115798  \n",
      "14  0.296178    0.678832  1.357664  0.078025    1.556818  \n",
      "15  0.296178    0.592357  1.357664  0.078025    1.382812  \n",
      "16  0.321656    0.643312  1.355705  0.084395    1.473214  \n",
      "17  0.321656    0.677852  1.355705  0.084395    1.552083  \n",
      "18  0.305732    0.611465  1.215190  0.054140    1.278689  \n",
      "19  0.305732    0.607595  1.215190  0.054140    1.274194  \n",
      "20  0.267516    0.535032  1.226277  0.049363    1.212329  \n",
      "21  0.267516    0.613139  1.226277  0.049363    1.292453  \n",
      "22  0.232484    0.574803  1.317432  0.056016    1.325725  \n",
      "23  0.232484    0.532847  1.317432  0.056016    1.274831  \n",
      "24  0.264331    0.605839  1.276735  0.057294    1.333156  \n",
      "25  0.264331    0.557047  1.276735  0.057294    1.272583  \n",
      "26  0.245223    0.562044  1.116973  0.025681    1.134395  \n",
      "27  0.245223    0.487342  1.116973  0.025681    1.099552  \n",
      "28  0.238854    0.547445  1.254729  0.048491    1.245582  \n",
      "29  0.238854    0.547445  1.254729  0.048491    1.245582  \n",
      "30  0.245223    0.516779  1.027016  0.006451    1.028132  \n",
      "31  0.245223    0.487342  1.027016  0.006451    1.025006  \n",
      "32  0.248408    0.523490  1.199824  0.041371    1.182964  \n",
      "33  0.248408    0.569343  1.199824  0.041371    1.220177  \n",
      "34  0.219745    0.436709  1.000924  0.000203    1.000716  \n",
      "35  0.219745    0.503650  1.000924  0.000203    1.000937  \n",
      "36  0.213376    0.720430  1.518222  0.072833    1.879593  \n",
      "37  0.213376    0.807229  1.614458  0.081210    2.593750  \n",
      "38  0.213376    0.663366  1.520416  0.073035    1.674504  \n",
      "39  0.213376    0.489051  1.520416  0.073035    1.327616  \n",
      "40  0.213376    0.426752  1.614458  0.081210    1.283333  \n",
      "41  0.213376    0.449664  1.518222  0.072833    1.278895  \n",
      "42  0.203822    0.666667  1.404922  0.058745    1.576433  \n",
      "43  0.203822    0.633663  1.259306  0.041969    1.356171  \n",
      "44  0.203822    0.831169  1.662338  0.081210    2.961538  \n",
      "45  0.203822    0.407643  1.662338  0.081210    1.274194  \n",
      "46  0.203822    0.405063  1.259306  0.041969    1.140195  \n",
      "47  0.203822    0.429530  1.404922  0.058745    1.217010  \n"
     ]
    }
   ],
   "source": [
    "# rules when the level of lift is above the 1.4 threshold\n",
    "rules = association_rules(frequent_itemsets, metric=\"lift\", min_threshold=.2)\n",
    "\n",
    "# print these rules\n",
    "print(rules)"
   ]
  },
  {
   "cell_type": "code",
   "execution_count": null,
   "metadata": {},
   "outputs": [],
   "source": []
  }
 ],
 "metadata": {
  "kernelspec": {
   "display_name": "Python 3",
   "language": "python",
   "name": "python3"
  },
  "language_info": {
   "codemirror_mode": {
    "name": "ipython",
    "version": 3
   },
   "file_extension": ".py",
   "mimetype": "text/x-python",
   "name": "python",
   "nbconvert_exporter": "python",
   "pygments_lexer": "ipython3",
   "version": "3.8.5"
  }
 },
 "nbformat": 4,
 "nbformat_minor": 4
}
