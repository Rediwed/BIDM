{
 "cells": [
  {
   "cell_type": "code",
   "execution_count": 3,
   "metadata": {},
   "outputs": [
    {
     "name": "stdout",
     "output_type": "stream",
     "text": [
      "true negative:   85\n",
      "false positive:  18\n",
      "false negative:  23\n",
      "true positive:   28\n"
     ]
    },
    {
     "data": {
      "text/plain": [
       "0.7337662337662337"
      ]
     },
     "execution_count": 3,
     "metadata": {},
     "output_type": "execute_result"
    }
   ],
   "source": [
    "import pandas as pd\n",
    "import sklearn.metrics as pm\n",
    "from sklearn.neighbors import KNeighborsClassifier\n",
    "\n",
    "# load the data from the file\n",
    "df = pd.read_csv(r'Business Intelligence & Data Management/Python/LabSession6/Diabetes.csv')\n",
    "# class attriute is Outcome and the remaing attribues as the Predictors\n",
    "X = df.drop('Outcome',axis=1).values\n",
    "y = df['Outcome'].values\n",
    "\n",
    "# Splitting the dataset (i.e., rows) into the Training set and Testing set\n",
    "from sklearn.model_selection import train_test_split\n",
    "X_train, X_test, y_train, y_test = train_test_split(X, y, test_size = 0.20, random_state = 101)\n",
    "\n",
    "# Create and fit the model\n",
    "model = KNeighborsClassifier(n_neighbors=7)\n",
    "model.fit(X_train, y_train)\n",
    "\n",
    "# Prediction and performance\n",
    "y_pred = model.predict(X_test)\n",
    "\n",
    "tn, fp, fn, tp = pm.confusion_matrix(y_test, y_pred).ravel()\n",
    "\n",
    "print(\"true negative:  \" , tn)\n",
    "print(\"false positive: \" , fp)\n",
    "print(\"false negative: \" , fn)\n",
    "print(\"true positive:  \" , tp)\n",
    "\n",
    "pm.accuracy_score(y_test, y_pred)"
   ]
  }
 ],
 "metadata": {
  "kernelspec": {
   "display_name": "Python 3",
   "language": "python",
   "name": "python3"
  },
  "language_info": {
   "codemirror_mode": {
    "name": "ipython",
    "version": 3
   },
   "file_extension": ".py",
   "mimetype": "text/x-python",
   "name": "python",
   "nbconvert_exporter": "python",
   "pygments_lexer": "ipython3",
   "version": "3.8.5"
  }
 },
 "nbformat": 4,
 "nbformat_minor": 4
}
